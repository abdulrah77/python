{
  "nbformat": 4,
  "nbformat_minor": 0,
  "metadata": {
    "colab": {
      "name": "youtube_data.ipynb",
      "provenance": [],
      "authorship_tag": "ABX9TyO262HoP5wZ3JiWROSBCkUd",
      "include_colab_link": true
    },
    "kernelspec": {
      "name": "python3",
      "display_name": "Python 3"
    },
    "language_info": {
      "name": "python"
    }
  },
  "cells": [
    {
      "cell_type": "markdown",
      "metadata": {
        "id": "view-in-github",
        "colab_type": "text"
      },
      "source": [
        "<a href=\"https://colab.research.google.com/github/abdulrah77/python/blob/main/youtube_data.ipynb\" target=\"_parent\"><img src=\"https://colab.research.google.com/assets/colab-badge.svg\" alt=\"Open In Colab\"/></a>"
      ]
    },
    {
      "cell_type": "markdown",
      "source": [
        "**Importing Libraries**"
      ],
      "metadata": {
        "id": "4qitW28ULGBB"
      }
    },
    {
      "cell_type": "code",
      "source": [
        "#import libraries\n",
        "from IPython.display import JSON\n",
        "import pandas as pd\n",
        "from googleapiclient.discovery import build\n",
        "import time\n",
        "import requests"
      ],
      "metadata": {
        "id": "BS0_JHn9WuR4"
      },
      "execution_count": null,
      "outputs": []
    },
    {
      "cell_type": "code",
      "source": [
        "!pip install --upgrade google-api-python-client --quiet"
      ],
      "metadata": {
        "id": "MsRm50W3Z5Fh"
      },
      "execution_count": null,
      "outputs": []
    },
    {
      "cell_type": "code",
      "execution_count": null,
      "metadata": {
        "id": "u2_Vmm255XyN"
      },
      "outputs": [],
      "source": [
        "#Keys\n",
        "API_KEY ='*********'\n",
        "channel_id = 'UCW8Ews7tdKKkBT6GdtQaXvQ'"
      ]
    },
    {
      "cell_type": "markdown",
      "source": [
        "**Defining Funcions**"
      ],
      "metadata": {
        "id": "9Wd1JQPKLdde"
      }
    },
    {
      "cell_type": "markdown",
      "source": [
        "Get Video details using Youtube API"
      ],
      "metadata": {
        "id": "17_76JCfLjuy"
      }
    },
    {
      "cell_type": "code",
      "source": [
        "def get_videos(df):\n",
        "  pageToken =\"\"\n",
        "  url = \"https://www.googleapis.com/youtube/v3/search?key=\" +API_KEY+\"&channelId=\"+channel_id+\"&part=snippet,id&order=date&maxResults=1000\"+pageToken\n",
        "  response = requests.get(url).json()\n",
        "  time.sleep(1)\n",
        "\n",
        "  for video in response['items']:\n",
        "    if video['id']['kind']== \"youtube#video\":\n",
        "      video_id= video['id']['videoId']\n",
        "      video_title=video['snippet']['title']\n",
        "      #upload_date = str(video['snippet']['publishedAt']).split(\"T\")[0]\n",
        "\n",
        "      view_count,like_count, comment_count = get_video_details(video_id)\n",
        "      #save data in pandas df\n",
        "      df=df.append({'video_id':video_id,'video_title':video_title, 'view_count':view_count,'like_count':like_count, 'comment_count':comment_count  }, ignore_index=True)\n",
        "      \n",
        "  return df"
      ],
      "metadata": {
        "id": "FFF1R_UiiY0W"
      },
      "execution_count": null,
      "outputs": []
    },
    {
      "cell_type": "code",
      "source": [
        "def get_video_details(video_id):\n",
        "  url_video=\"https://www.googleapis.com/youtube/v3/videos?id=\"+video_id+\"&part=statistics&key=\"+API_KEY\n",
        "  response = requests.get(url_video).json()\n",
        "  view_count=response['items'][0]['statistics']['viewCount']\n",
        "  like_count=response['items'][0]['statistics']['likeCount']\n",
        "  # dislike_count=\n",
        "  comment_count=response['items'][0]['statistics']['commentCount']\n",
        "\n",
        "  return view_count,like_count, comment_count"
      ],
      "metadata": {
        "id": "Eo8F0BgjjeHM"
      },
      "execution_count": null,
      "outputs": []
    },
    {
      "cell_type": "code",
      "source": [
        "# Creating the DataFrame\n",
        "df = pd.DataFrame(columns=[\"video_id\",\"video_title\",\"view_count\",\"like_count\",\"comment_count\"])\n",
        "\n",
        "df = get_videos(df)"
      ],
      "metadata": {
        "id": "nuAdh8Xn7Qyi"
      },
      "execution_count": null,
      "outputs": []
    },
    {
      "cell_type": "code",
      "source": [
        "df.head()\n",
        "#Check why the two upload_date columns are created?\n"
      ],
      "metadata": {
        "colab": {
          "base_uri": "https://localhost:8080/",
          "height": 206
        },
        "id": "hypf8Yk87UKu",
        "outputId": "6a47fa56-54ca-40e0-8480-4434ed40bb5c"
      },
      "execution_count": null,
      "outputs": [
        {
          "output_type": "execute_result",
          "data": {
            "text/plain": [
              "      video_id                                        video_title view_count  \\\n",
              "0  jN5hpgBrz8k  Dealing With Python Date Manipulations In a Me...       1425   \n",
              "1  yFyyP_Uvxj0  How To Solve Data Science Probability Intervie...       1635   \n",
              "2  Av92CaPTRr8  How to use SQL window functions: RANK vs DENSE...       2055   \n",
              "3  VEjxlKBkZGM  Amazon Data Science Interview Question Walkthr...       5365   \n",
              "4  hMUf7DqG1nQ  SQL Basics: How to Join Multiple Tables in SQL...       3075   \n",
              "\n",
              "  like_count comment_count  \n",
              "0         52             7  \n",
              "1         56             2  \n",
              "2         60             8  \n",
              "3        171            20  \n",
              "4         90             6  "
            ],
            "text/html": [
              "\n",
              "  <div id=\"df-88caa546-895b-41f1-a2ec-e623fb8e83fe\">\n",
              "    <div class=\"colab-df-container\">\n",
              "      <div>\n",
              "<style scoped>\n",
              "    .dataframe tbody tr th:only-of-type {\n",
              "        vertical-align: middle;\n",
              "    }\n",
              "\n",
              "    .dataframe tbody tr th {\n",
              "        vertical-align: top;\n",
              "    }\n",
              "\n",
              "    .dataframe thead th {\n",
              "        text-align: right;\n",
              "    }\n",
              "</style>\n",
              "<table border=\"1\" class=\"dataframe\">\n",
              "  <thead>\n",
              "    <tr style=\"text-align: right;\">\n",
              "      <th></th>\n",
              "      <th>video_id</th>\n",
              "      <th>video_title</th>\n",
              "      <th>view_count</th>\n",
              "      <th>like_count</th>\n",
              "      <th>comment_count</th>\n",
              "    </tr>\n",
              "  </thead>\n",
              "  <tbody>\n",
              "    <tr>\n",
              "      <th>0</th>\n",
              "      <td>jN5hpgBrz8k</td>\n",
              "      <td>Dealing With Python Date Manipulations In a Me...</td>\n",
              "      <td>1425</td>\n",
              "      <td>52</td>\n",
              "      <td>7</td>\n",
              "    </tr>\n",
              "    <tr>\n",
              "      <th>1</th>\n",
              "      <td>yFyyP_Uvxj0</td>\n",
              "      <td>How To Solve Data Science Probability Intervie...</td>\n",
              "      <td>1635</td>\n",
              "      <td>56</td>\n",
              "      <td>2</td>\n",
              "    </tr>\n",
              "    <tr>\n",
              "      <th>2</th>\n",
              "      <td>Av92CaPTRr8</td>\n",
              "      <td>How to use SQL window functions: RANK vs DENSE...</td>\n",
              "      <td>2055</td>\n",
              "      <td>60</td>\n",
              "      <td>8</td>\n",
              "    </tr>\n",
              "    <tr>\n",
              "      <th>3</th>\n",
              "      <td>VEjxlKBkZGM</td>\n",
              "      <td>Amazon Data Science Interview Question Walkthr...</td>\n",
              "      <td>5365</td>\n",
              "      <td>171</td>\n",
              "      <td>20</td>\n",
              "    </tr>\n",
              "    <tr>\n",
              "      <th>4</th>\n",
              "      <td>hMUf7DqG1nQ</td>\n",
              "      <td>SQL Basics: How to Join Multiple Tables in SQL...</td>\n",
              "      <td>3075</td>\n",
              "      <td>90</td>\n",
              "      <td>6</td>\n",
              "    </tr>\n",
              "  </tbody>\n",
              "</table>\n",
              "</div>\n",
              "      <button class=\"colab-df-convert\" onclick=\"convertToInteractive('df-88caa546-895b-41f1-a2ec-e623fb8e83fe')\"\n",
              "              title=\"Convert this dataframe to an interactive table.\"\n",
              "              style=\"display:none;\">\n",
              "        \n",
              "  <svg xmlns=\"http://www.w3.org/2000/svg\" height=\"24px\"viewBox=\"0 0 24 24\"\n",
              "       width=\"24px\">\n",
              "    <path d=\"M0 0h24v24H0V0z\" fill=\"none\"/>\n",
              "    <path d=\"M18.56 5.44l.94 2.06.94-2.06 2.06-.94-2.06-.94-.94-2.06-.94 2.06-2.06.94zm-11 1L8.5 8.5l.94-2.06 2.06-.94-2.06-.94L8.5 2.5l-.94 2.06-2.06.94zm10 10l.94 2.06.94-2.06 2.06-.94-2.06-.94-.94-2.06-.94 2.06-2.06.94z\"/><path d=\"M17.41 7.96l-1.37-1.37c-.4-.4-.92-.59-1.43-.59-.52 0-1.04.2-1.43.59L10.3 9.45l-7.72 7.72c-.78.78-.78 2.05 0 2.83L4 21.41c.39.39.9.59 1.41.59.51 0 1.02-.2 1.41-.59l7.78-7.78 2.81-2.81c.8-.78.8-2.07 0-2.86zM5.41 20L4 18.59l7.72-7.72 1.47 1.35L5.41 20z\"/>\n",
              "  </svg>\n",
              "      </button>\n",
              "      \n",
              "  <style>\n",
              "    .colab-df-container {\n",
              "      display:flex;\n",
              "      flex-wrap:wrap;\n",
              "      gap: 12px;\n",
              "    }\n",
              "\n",
              "    .colab-df-convert {\n",
              "      background-color: #E8F0FE;\n",
              "      border: none;\n",
              "      border-radius: 50%;\n",
              "      cursor: pointer;\n",
              "      display: none;\n",
              "      fill: #1967D2;\n",
              "      height: 32px;\n",
              "      padding: 0 0 0 0;\n",
              "      width: 32px;\n",
              "    }\n",
              "\n",
              "    .colab-df-convert:hover {\n",
              "      background-color: #E2EBFA;\n",
              "      box-shadow: 0px 1px 2px rgba(60, 64, 67, 0.3), 0px 1px 3px 1px rgba(60, 64, 67, 0.15);\n",
              "      fill: #174EA6;\n",
              "    }\n",
              "\n",
              "    [theme=dark] .colab-df-convert {\n",
              "      background-color: #3B4455;\n",
              "      fill: #D2E3FC;\n",
              "    }\n",
              "\n",
              "    [theme=dark] .colab-df-convert:hover {\n",
              "      background-color: #434B5C;\n",
              "      box-shadow: 0px 1px 3px 1px rgba(0, 0, 0, 0.15);\n",
              "      filter: drop-shadow(0px 1px 2px rgba(0, 0, 0, 0.3));\n",
              "      fill: #FFFFFF;\n",
              "    }\n",
              "  </style>\n",
              "\n",
              "      <script>\n",
              "        const buttonEl =\n",
              "          document.querySelector('#df-88caa546-895b-41f1-a2ec-e623fb8e83fe button.colab-df-convert');\n",
              "        buttonEl.style.display =\n",
              "          google.colab.kernel.accessAllowed ? 'block' : 'none';\n",
              "\n",
              "        async function convertToInteractive(key) {\n",
              "          const element = document.querySelector('#df-88caa546-895b-41f1-a2ec-e623fb8e83fe');\n",
              "          const dataTable =\n",
              "            await google.colab.kernel.invokeFunction('convertToInteractive',\n",
              "                                                     [key], {});\n",
              "          if (!dataTable) return;\n",
              "\n",
              "          const docLinkHtml = 'Like what you see? Visit the ' +\n",
              "            '<a target=\"_blank\" href=https://colab.research.google.com/notebooks/data_table.ipynb>data table notebook</a>'\n",
              "            + ' to learn more about interactive tables.';\n",
              "          element.innerHTML = '';\n",
              "          dataTable['output_type'] = 'display_data';\n",
              "          await google.colab.output.renderOutput(dataTable, element);\n",
              "          const docLink = document.createElement('div');\n",
              "          docLink.innerHTML = docLinkHtml;\n",
              "          element.appendChild(docLink);\n",
              "        }\n",
              "      </script>\n",
              "    </div>\n",
              "  </div>\n",
              "  "
            ]
          },
          "metadata": {},
          "execution_count": 8
        }
      ]
    },
    {
      "cell_type": "code",
      "source": [
        "#del df['upload_date']"
      ],
      "metadata": {
        "id": "0mZfOE-CZzrM"
      },
      "execution_count": null,
      "outputs": []
    },
    {
      "cell_type": "code",
      "source": [
        "!pip install mysql.connector"
      ],
      "metadata": {
        "id": "pCMEJV_QIjg8"
      },
      "execution_count": null,
      "outputs": []
    },
    {
      "cell_type": "code",
      "source": [
        "!pip install PyMySQL"
      ],
      "metadata": {
        "id": "EXIMdQxYXQGR"
      },
      "execution_count": null,
      "outputs": []
    },
    {
      "cell_type": "markdown",
      "source": [
        "Uploading DataFrame to the MySQL Database "
      ],
      "metadata": {
        "id": "INKmXquzL754"
      }
    },
    {
      "cell_type": "code",
      "source": [
        "#importing my sql connector\n",
        "# import mysql.connector as mc\n",
        "import pymysql as ps"
      ],
      "metadata": {
        "id": "EzrBYwtjb5Nx"
      },
      "execution_count": null,
      "outputs": []
    },
    {
      "cell_type": "markdown",
      "source": [
        "Connecting to the Database"
      ],
      "metadata": {
        "id": "3fhIMqvNMstf"
      }
    },
    {
      "cell_type": "code",
      "source": [
        "def connect(hostname,port,username, password):\n",
        "  try:\n",
        "    conn = ps.connect(host=hostname , port= port, user= username, password=password)\n",
        "  except ps.OperationalError:\n",
        "    raise ps.OperationalError\n",
        "  else:\n",
        "    print('Connected!')\n",
        "  return conn"
      ],
      "metadata": {
        "id": "jyL2Wxw8doiP"
      },
      "execution_count": null,
      "outputs": []
    },
    {
      "cell_type": "code",
      "source": [
        "#update row if video exists\n",
        "def update_row(curr,video_title, view_count ,like_count, comment_count, video_id):\n",
        "  query= ('''UPDATE aakash_youtube\n",
        "             SET video_title =%s,\n",
        "                 view_count =%s,\n",
        "                 like_count =%s,\n",
        "                 comment_count =%s,\n",
        "             WHERE video_id == %s;,\n",
        "          ''')\n",
        "  var_to_update =( video_title, view_count ,like_count, comment_count, video_id )\n",
        "  curr.execute(query,(var_to_update))"
      ],
      "metadata": {
        "id": "jqwplys6ErpR"
      },
      "execution_count": null,
      "outputs": []
    },
    {
      "cell_type": "code",
      "source": [
        "#Creating a table\n",
        "def create_table(curr):\n",
        "  query =('''CREATE TABLE IF NOT EXISTS aakash_youtube (\n",
        "            \n",
        "            video_id VARCHAR(255) PRIMARY KEY,\n",
        "            video_title TEXT NOT NULL,\n",
        "            view_count INTEGER NOT NULL,\n",
        "            like_count\tINTEGER NOT NULL,\n",
        "            comment_count INTEGER NOT NULL)\n",
        "\n",
        "            ''')\n",
        "  curr.execute(query)"
      ],
      "metadata": {
        "id": "JyJdbRRFgA3t"
      },
      "execution_count": null,
      "outputs": []
    },
    {
      "cell_type": "code",
      "source": [
        "#Check to see if video exists\n",
        "def check_if_video_exists(curr, video_id):\n",
        "  query = (\"\"\" SELECT video_id FROM aakash_youtube WHERE video_id = %s\"\"\")\n",
        "  curr.execute(query,(video_id,))\n",
        "\n",
        "  return curr.fetchone() is not None"
      ],
      "metadata": {
        "id": "YqZgT_5mEKg6"
      },
      "execution_count": null,
      "outputs": []
    },
    {
      "cell_type": "code",
      "source": [
        "#Check to see if video exists\n",
        "def update_db(curr,df):\n",
        "  tmp_df = pd.DataFrame(columns=['video_id', 'video_title', 'view_count', 'like_count', 'comment_count'])\n",
        "  print(tmp_df.columns.tolist())\n",
        "  for i,row in df.iterrows():\n",
        "    if check_if_video_exists(curr,row['video_id']):\n",
        "        update_row(curr, row['video_id'],row['video_title'], row['view_count '],row['like_count'], row['comment_count'])\n",
        "    else:\n",
        "        tmp_df = tmp_df.append(row)\n",
        "        #print(i)\n",
        "        #print(row)\n",
        "        pass\n",
        "  return tmp_df"
      ],
      "metadata": {
        "id": "zLIOlkwLIVHh"
      },
      "execution_count": null,
      "outputs": []
    },
    {
      "cell_type": "code",
      "source": [
        "#write insert function\n",
        "def insert_into_table(curr, video_id, video_title, view_count, like_count, comment_count):\n",
        "  print(\"check1\")\n",
        "  if (view_count is None):\n",
        "    view_count = 0\n",
        "  elif (like_count is None):\n",
        "    like_count = 0\n",
        "  elif (comment_count is None):\n",
        "    comment_count =0\n",
        "  else:\n",
        "    insert_into_videos = (\"\"\" INSERT INTO aakash_youtube (video_id,video_title,view_count,like_count,comment_count) VALUES(%s,%s,%s,%s,%s);\"\"\")\n",
        "    print(\"check2\")\n",
        "    row_to_insert = (video_id, video_title, view_count, like_count, comment_count)\n",
        "    print(\"check3\")\n",
        "    print(curr.execute(insert_into_videos, row_to_insert))"
      ],
      "metadata": {
        "id": "PQqnVFDwMdZm"
      },
      "execution_count": 84,
      "outputs": []
    },
    {
      "cell_type": "code",
      "source": [
        "def append_from_df_to_db(curr,df):\n",
        "  print(df.columns.tolist())\n",
        "  for i,row in df.iterrows():\n",
        "    insert_into_table(curr,row.get('video_id'),row.get('video_title'), row.get('view_count '),row.get('like_count'), row.get('comment_count'))\n",
        "    print(i)"
      ],
      "metadata": {
        "id": "7jPJXwxoNypg"
      },
      "execution_count": 86,
      "outputs": []
    },
    {
      "cell_type": "code",
      "source": [
        "#storing database connection details\n",
        "hostname = 'database-2.cimnlngca8v0.ap-south-1.rds.amazonaws.com'\n",
        "dbname = 'database-2'\n",
        "port = 3306\n",
        "username = 'admin'\n",
        "password = 'mypassword'\n",
        "conn = None"
      ],
      "metadata": {
        "id": "cWVvgGXscLu-"
      },
      "execution_count": null,
      "outputs": []
    },
    {
      "cell_type": "code",
      "source": [
        "conn = connect(hostname,port,username,password)\n",
        "curr = conn.cursor()"
      ],
      "metadata": {
        "colab": {
          "base_uri": "https://localhost:8080/"
        },
        "id": "R7h8cmODY0nk",
        "outputId": "8a1c778d-cb86-4837-a347-c958f51051d1"
      },
      "execution_count": null,
      "outputs": [
        {
          "output_type": "stream",
          "name": "stdout",
          "text": [
            "Connected!\n"
          ]
        }
      ]
    },
    {
      "cell_type": "code",
      "source": [
        "query = ''' CREATE DATABASE IF NOT EXISTS youtubedata'''"
      ],
      "metadata": {
        "id": "b_Hskxf8ZYBh"
      },
      "execution_count": null,
      "outputs": []
    },
    {
      "cell_type": "code",
      "source": [
        "curr.execute(query)"
      ],
      "metadata": {
        "colab": {
          "base_uri": "https://localhost:8080/"
        },
        "id": "tbgjZ6yAekF7",
        "outputId": "3d098293-487a-42ab-cfff-d6ea681d4cfc"
      },
      "execution_count": null,
      "outputs": [
        {
          "output_type": "execute_result",
          "data": {
            "text/plain": [
              "1"
            ]
          },
          "metadata": {},
          "execution_count": 25
        }
      ]
    },
    {
      "cell_type": "code",
      "source": [
        "# conn.cursor().execute(\"select version()\")"
      ],
      "metadata": {
        "id": "ZavsRUK0fpwE"
      },
      "execution_count": null,
      "outputs": []
    },
    {
      "cell_type": "code",
      "source": [
        "query = '''USE youtubedata'''\n",
        "curr.execute(query)\n"
      ],
      "metadata": {
        "colab": {
          "base_uri": "https://localhost:8080/"
        },
        "id": "rQTWwFq3fUxb",
        "outputId": "577f46f3-a4c8-41db-ed2f-61adb14d0ab9"
      },
      "execution_count": null,
      "outputs": [
        {
          "output_type": "execute_result",
          "data": {
            "text/plain": [
              "0"
            ]
          },
          "metadata": {},
          "execution_count": 27
        }
      ]
    },
    {
      "cell_type": "code",
      "source": [
        "curr.connection.commit()"
      ],
      "metadata": {
        "id": "UhniQNfgfnEN"
      },
      "execution_count": null,
      "outputs": []
    },
    {
      "cell_type": "code",
      "source": [
        "curr.execute(\"select version()\")\n",
        "print(curr.fetchone())"
      ],
      "metadata": {
        "colab": {
          "base_uri": "https://localhost:8080/"
        },
        "id": "b4xkrAay3sCN",
        "outputId": "7ad52aa3-e125-439b-b6d7-ec61b47df5b7"
      },
      "execution_count": null,
      "outputs": [
        {
          "output_type": "stream",
          "name": "stdout",
          "text": [
            "('8.0.27',)\n"
          ]
        }
      ]
    },
    {
      "cell_type": "code",
      "source": [
        "conn.commit()"
      ],
      "metadata": {
        "id": "P52HJjE6iFcU"
      },
      "execution_count": null,
      "outputs": []
    },
    {
      "cell_type": "code",
      "source": [
        "# df.columns.tolist()\n"
      ],
      "metadata": {
        "id": "Gbzn6pVUEtOT"
      },
      "execution_count": null,
      "outputs": []
    },
    {
      "cell_type": "markdown",
      "source": [
        "Check if Table has been created"
      ],
      "metadata": {
        "id": "jJr4N7m5NLyW"
      }
    },
    {
      "cell_type": "code",
      "source": [
        "create_table(curr)"
      ],
      "metadata": {
        "id": "KzoScIPWI1na"
      },
      "execution_count": null,
      "outputs": []
    },
    {
      "cell_type": "code",
      "source": [
        "# query= 'show tables'\n",
        "# curr.execute(query)\n",
        "# curr.fetchall()"
      ],
      "metadata": {
        "colab": {
          "base_uri": "https://localhost:8080/"
        },
        "id": "DhP9Tthn0b0I",
        "outputId": "97b856ef-77fb-4fd9-ddde-391c42eb221f"
      },
      "execution_count": null,
      "outputs": [
        {
          "output_type": "execute_result",
          "data": {
            "text/plain": [
              "(('aakash_youtube',),)"
            ]
          },
          "metadata": {},
          "execution_count": 29
        }
      ]
    },
    {
      "cell_type": "code",
      "source": [
        "new_vid_df = update_db(curr,df)"
      ],
      "metadata": {
        "colab": {
          "base_uri": "https://localhost:8080/"
        },
        "id": "-HUdaco2IjtY",
        "outputId": "ec2fb902-8661-4a36-c784-ad9b0ad42365"
      },
      "execution_count": 68,
      "outputs": [
        {
          "output_type": "stream",
          "name": "stdout",
          "text": [
            "['video_id', 'video_title', 'view_count', 'like_count', 'comment_count']\n"
          ]
        }
      ]
    },
    {
      "cell_type": "code",
      "source": [
        "df.head()"
      ],
      "metadata": {
        "id": "81b3XfJuRkWm"
      },
      "execution_count": null,
      "outputs": []
    },
    {
      "cell_type": "code",
      "source": [
        "new_vid_df.head()"
      ],
      "metadata": {
        "id": "0aZTW79YI1ep"
      },
      "execution_count": null,
      "outputs": []
    },
    {
      "cell_type": "code",
      "source": [
        "append_from_df_to_db(curr,new_vid_df)"
      ],
      "metadata": {
        "id": "O8nPjv2KMrSa"
      },
      "execution_count": null,
      "outputs": []
    },
    {
      "cell_type": "code",
      "source": [
        "conn.commit()"
      ],
      "metadata": {
        "id": "F2pv-3V8MEbJ"
      },
      "execution_count": 88,
      "outputs": []
    }
  ]
}